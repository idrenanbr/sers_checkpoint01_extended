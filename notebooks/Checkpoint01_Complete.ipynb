{
 "cells": [
  {
   "cell_type": "markdown",
   "id": "6fd3bde1",
   "metadata": {},
   "source": [
    "# Checkpoint 01 – Exercícios adicionais\n",
    "\n",
    "Este notebook complementa a análise da base **Individual Household Electric Power Consumption** e adiciona as tarefas extras (21–25). Também trabalha com o dataset **Appliances Energy Prediction** para as tarefas 26–35 e replica os exercícios propostos para Orange Data Mining (36–40) usando Python."
   ]
  },
  {
   "cell_type": "code",
   "execution_count": null,
   "id": "ca592fbc",
   "metadata": {},
   "outputs": [],
   "source": [
    "import pandas as pd\n",
    "import numpy as np\n",
    "import matplotlib.pyplot as plt\n",
    "from sklearn.preprocessing import MinMaxScaler\n",
    "from sklearn.decomposition import PCA\n",
    "from sklearn.cluster import KMeans\n",
    "from sklearn.linear_model import LinearRegression, LogisticRegression\n",
    "from sklearn.preprocessing import PolynomialFeatures\n",
    "from sklearn.model_selection import train_test_split\n",
    "from sklearn.metrics import mean_squared_error, mean_absolute_error, r2_score, accuracy_score, precision_score, recall_score, f1_score, confusion_matrix\n",
    "from sklearn.ensemble import RandomForestRegressor, RandomForestClassifier\n",
    "%matplotlib inline"
   ]
  },
  {
   "cell_type": "markdown",
   "id": "5d5ec72f",
   "metadata": {},
   "source": [
    "## Carregamento da base de consumo doméstico\n",
    "\n",
    "Carregamos novamente a base `household_power_consumption.txt`, combinando as colunas **Date** e **Time** em um índice datetime e convertendo as colunas numéricas."
   ]
  },
  {
   "cell_type": "code",
   "execution_count": null,
   "id": "63b5ebbf",
   "metadata": {},
   "outputs": [],
   "source": [
    "df_hpc = pd.read_csv('hpc_data/household_power_consumption.txt', sep=';', na_values='?', dtype=str)\n",
    "df_hpc['DateTime'] = pd.to_datetime(df_hpc['Date'] + ' ' + df_hpc['Time'], format='%d/%m/%Y %H:%M:%S')\n",
    "df_hpc.set_index('DateTime', inplace=True)\n",
    "num_cols = ['Global_active_power','Global_reactive_power','Voltage','Global_intensity','Sub_metering_1','Sub_metering_2','Sub_metering_3']\n",
    "for col in num_cols:\n",
    "    df_hpc[col] = pd.to_numeric(df_hpc[col], errors='coerce')\n",
    "\n",
    "df_hpc.head()"
   ]
  },
  {
   "cell_type": "markdown",
   "id": "21d1e109",
   "metadata": {},
   "source": [
    "## Tarefa 21 – Séries temporais por hora"
   ]
  },
  {
   "cell_type": "code",
   "execution_count": null,
   "id": "87c0566c",
   "metadata": {},
   "outputs": [],
   "source": [
    "hourly = df_hpc['Global_active_power'].resample('H').mean()\n",
    "hourly_by_hour = hourly.groupby(hourly.index.hour).mean()\n",
    "peak_hours = hourly_by_hour.sort_values(ascending=False).head(5)\n",
    "peak_hours"
   ]
  },
  {
   "cell_type": "code",
   "execution_count": null,
   "id": "d16fe79f",
   "metadata": {},
   "outputs": [],
   "source": [
    "hourly_by_hour.plot(marker='o')\n",
    "plt.title('Média horária de Global_active_power ao longo do dia')\n",
    "plt.xlabel('Hora do dia')\n",
    "plt.ylabel('Potência ativa média (kW)')"
   ]
  },
  {
   "cell_type": "markdown",
   "id": "2b241b7a",
   "metadata": {},
   "source": [
    "## Tarefa 22 – Autocorrelação do consumo"
   ]
  },
  {
   "cell_type": "code",
   "execution_count": null,
   "id": "d6d38e80",
   "metadata": {},
   "outputs": [],
   "source": [
    "acf1 = hourly.autocorr(lag=1)\n",
    "acf24 = hourly.autocorr(lag=24)\n",
    "acf48 = hourly.autocorr(lag=48)\n",
    "(acf1, acf24, acf48)"
   ]
  },
  {
   "cell_type": "markdown",
   "id": "e7a26051",
   "metadata": {},
   "source": [
    "## Tarefa 23 – PCA das variáveis elétricas"
   ]
  },
  {
   "cell_type": "code",
   "execution_count": null,
   "id": "ec55315a",
   "metadata": {},
   "outputs": [],
   "source": [
    "features = ['Global_active_power','Global_reactive_power','Voltage','Global_intensity']\n",
    "df_sel = df_hpc[features].dropna()\n",
    "scaler = MinMaxScaler()\n",
    "scaled = scaler.fit_transform(df_sel)\n",
    "pca = PCA(n_components=2)\n",
    "pca_components = pca.fit_transform(scaled)\n",
    "pca.explained_variance_ratio_"
   ]
  },
  {
   "cell_type": "markdown",
   "id": "0a197e67",
   "metadata": {},
   "source": [
    "## Tarefa 24 – Visualização de clusters no espaço PCA"
   ]
  },
  {
   "cell_type": "code",
   "execution_count": null,
   "id": "ff53d380",
   "metadata": {},
   "outputs": [],
   "source": [
    "daily_features = pd.DataFrame({\n",
    "    'Active_power_mean': df_hpc['Global_active_power'].resample('D').mean(),\n",
    "    'Reactive_power_mean': df_hpc['Global_reactive_power'].resample('D').mean(),\n",
    "    'Voltage_mean': df_hpc['Voltage'].resample('D').mean(),\n",
    "    'Intensity_mean': df_hpc['Global_intensity'].resample('D').mean(),\n",
    "    'Total_Sub_metering': (df_hpc['Sub_metering_1']+df_hpc['Sub_metering_2']+df_hpc['Sub_metering_3']).resample('D').mean()\n",
    "}).dropna()\n",
    "scaler_daily = MinMaxScaler()\n",
    "daily_scaled = scaler_daily.fit_transform(daily_features)\n",
    "kmeans_daily = KMeans(n_clusters=3, random_state=42, n_init=10)\n",
    "daily_labels = kmeans_daily.fit_predict(daily_scaled)\n",
    "label_series = pd.Series(daily_labels, index=daily_features.index)\n",
    "pca_df = pd.DataFrame(pca_components, columns=['PC1','PC2'], index=df_sel.index)\n",
    "pca_labels = label_series.reindex(pca_df.index, method='ffill')\n",
    "for c in sorted(pca_labels.dropna().unique()):\n",
    "    points = pca_df[pca_labels == c]\n",
    "    plt.scatter(points['PC1'], points['PC2'], s=2, label=f'Cluster {c}')\n",
    "plt.title('Clusters no espaço PCA')\n",
    "plt.xlabel('PC1')\n",
    "plt.ylabel('PC2')\n",
    "plt.legend()"
   ]
  },
  {
   "cell_type": "markdown",
   "id": "1afec266",
   "metadata": {},
   "source": [
    "## Tarefa 25 – Regressão linear vs polinomial"
   ]
  },
  {
   "cell_type": "code",
   "execution_count": null,
   "id": "6c30cf10",
   "metadata": {},
   "outputs": [],
   "source": [
    "df_reg = df_hpc[['Global_active_power','Voltage']].dropna()\n",
    "X = df_reg[['Voltage']]\n",
    "y = df_reg['Global_active_power']\n",
    "X_train, X_test, y_train, y_test = train_test_split(X, y, test_size=0.2, random_state=42)\n",
    "lin_model = LinearRegression()\n",
    "lin_model.fit(X_train, y_train)\n",
    "y_pred_lin = lin_model.predict(X_test)\n",
    "poly = PolynomialFeatures(degree=2, include_bias=False)\n",
    "X_train_poly = poly.fit_transform(X_train)\n",
    "X_test_poly = poly.transform(X_test)\n",
    "poly_model = LinearRegression()\n",
    "poly_model.fit(X_train_poly, y_train)\n",
    "y_pred_poly = poly_model.predict(X_test_poly)\n",
    "rmse_lin = np.sqrt(mean_squared_error(y_test, y_pred_lin))\n",
    "rmse_poly = np.sqrt(mean_squared_error(y_test, y_pred_poly))\n",
    "(rmse_lin, rmse_poly)"
   ]
  },
  {
   "cell_type": "markdown",
   "id": "7b2e6038",
   "metadata": {},
   "source": [
    "## Carregamento da base Appliances Energy Prediction"
   ]
  },
  {
   "cell_type": "code",
   "execution_count": null,
   "id": "798b043b",
   "metadata": {},
   "outputs": [],
   "source": [
    "df_appl = pd.read_csv('energydata_complete.csv')\n",
    "df_appl.head()"
   ]
  },
  {
   "cell_type": "markdown",
   "id": "4b018b0d",
   "metadata": {},
   "source": [
    "## Tarefa 26 – Inspeção inicial"
   ]
  },
  {
   "cell_type": "code",
   "execution_count": null,
   "id": "af7580fb",
   "metadata": {},
   "outputs": [],
   "source": [
    "df_appl.info()\n",
    "df_appl.describe()"
   ]
  },
  {
   "cell_type": "markdown",
   "id": "b6b508bd",
   "metadata": {},
   "source": [
    "## Tarefa 27 – Distribuição do consumo de Appliances"
   ]
  },
  {
   "cell_type": "code",
   "execution_count": null,
   "id": "7d1003f0",
   "metadata": {},
   "outputs": [],
   "source": [
    "df_appl['Appliances'].hist(bins=50)\n",
    "plt.title('Histograma de Appliances')\n",
    "plt.xlabel('Consumo (Wh)')\n",
    "plt.ylabel('Frequência')"
   ]
  },
  {
   "cell_type": "code",
   "execution_count": null,
   "id": "dad4a5bf",
   "metadata": {},
   "outputs": [],
   "source": [
    "plt.plot(pd.to_datetime(df_appl['date']), df_appl['Appliances'])\n",
    "plt.title('Série temporal de Appliances')\n",
    "plt.xlabel('Data')\n",
    "plt.ylabel('Consumo (Wh)')"
   ]
  },
  {
   "cell_type": "markdown",
   "id": "3fee32f6",
   "metadata": {},
   "source": [
    "## Tarefa 28 – Correlação com variáveis ambientais"
   ]
  },
  {
   "cell_type": "code",
   "execution_count": null,
   "id": "367352c8",
   "metadata": {},
   "outputs": [],
   "source": [
    "env_cols = [c for c in df_appl.columns if c.startswith('T') or c.startswith('RH')]\n",
    "correlations = df_appl[env_cols].corrwith(df_appl['Appliances']).sort_values(ascending=False)\n",
    "correlations.head()"
   ]
  },
  {
   "cell_type": "markdown",
   "id": "9f77a60b",
   "metadata": {},
   "source": [
    "## Tarefa 29 – Normalização dos dados"
   ]
  },
  {
   "cell_type": "code",
   "execution_count": null,
   "id": "9c2dd586",
   "metadata": {},
   "outputs": [],
   "source": [
    "num_cols = df_appl.select_dtypes(include=[np.number]).columns\n",
    "scaler = MinMaxScaler()\n",
    "df_appl_scaled = pd.DataFrame(scaler.fit_transform(df_appl[num_cols]), columns=num_cols)\n",
    "df_appl_scaled.describe().loc[['min','max']]"
   ]
  },
  {
   "cell_type": "markdown",
   "id": "29e92996",
   "metadata": {},
   "source": [
    "## Tarefa 30 – PCA no dataset de Appliances"
   ]
  },
  {
   "cell_type": "code",
   "execution_count": null,
   "id": "5479954c",
   "metadata": {},
   "outputs": [],
   "source": [
    "pca_appl = PCA(n_components=2)\n",
    "components_appl = pca_appl.fit_transform(df_appl_scaled)\n",
    "pca_appl.explained_variance_ratio_"
   ]
  },
  {
   "cell_type": "markdown",
   "id": "8dc3bc29",
   "metadata": {},
   "source": [
    "## Tarefa 31 – Regressão linear múltipla"
   ]
  },
  {
   "cell_type": "code",
   "execution_count": null,
   "id": "150f82f9",
   "metadata": {},
   "outputs": [],
   "source": [
    "X = df_appl[num_cols].drop('Appliances', axis=1)\n",
    "y = df_appl['Appliances']\n",
    "X_train, X_test, y_train, y_test = train_test_split(X, y, test_size=0.2, random_state=42)\n",
    "lin_multi = LinearRegression()\n",
    "lin_multi.fit(X_train, y_train)\n",
    "y_pred = lin_multi.predict(X_test)\n",
    "rmse = np.sqrt(mean_squared_error(y_test, y_pred))\n",
    "mae = mean_absolute_error(y_test, y_pred)\n",
    "r2 = r2_score(y_test, y_pred)\n",
    "(rmse, mae, r2)"
   ]
  },
  {
   "cell_type": "markdown",
   "id": "5e6c3261",
   "metadata": {},
   "source": [
    "## Tarefa 32 – Random Forest Regressor"
   ]
  },
  {
   "cell_type": "code",
   "execution_count": null,
   "id": "de810044",
   "metadata": {},
   "outputs": [],
   "source": [
    "rf_reg = RandomForestRegressor(n_estimators=100, random_state=42)\n",
    "rf_reg.fit(X_train, y_train)\n",
    "y_pred_rf = rf_reg.predict(X_test)\n",
    "rmse_rf = np.sqrt(mean_squared_error(y_test, y_pred_rf))\n",
    "mae_rf = mean_absolute_error(y_test, y_pred_rf)\n",
    "r2_rf = r2_score(y_test, y_pred_rf)\n",
    "(rmse_rf, mae_rf, r2_rf)"
   ]
  },
  {
   "cell_type": "markdown",
   "id": "f43f7af3",
   "metadata": {},
   "source": [
    "## Tarefa 33 – K-means clustering"
   ]
  },
  {
   "cell_type": "code",
   "execution_count": null,
   "id": "dccc6980",
   "metadata": {},
   "outputs": [],
   "source": [
    "for k in [3,4,5]:\n",
    "    km = KMeans(n_clusters=k, random_state=42, n_init=10)\n",
    "    labels = km.fit_predict(df_appl_scaled)\n",
    "    print(k, km.inertia_)"
   ]
  },
  {
   "cell_type": "markdown",
   "id": "8eec1779",
   "metadata": {},
   "source": [
    "## Tarefa 34 – Classificação binária (alto vs baixo consumo)"
   ]
  },
  {
   "cell_type": "code",
   "execution_count": null,
   "id": "34b917a9",
   "metadata": {},
   "outputs": [],
   "source": [
    "median = df_appl['Appliances'].median()\n",
    "df_appl['HighConsumption'] = (df_appl['Appliances'] > median).astype(int)\n",
    "X_bin = df_appl[num_cols].drop(['Appliances'], axis=1)\n",
    "y_bin = df_appl['HighConsumption']\n",
    "X_train_bin, X_test_bin, y_train_bin, y_test_bin = train_test_split(X_bin, y_bin, test_size=0.2, random_state=42, stratify=y_bin)\n",
    "log_reg = LogisticRegression(max_iter=1000)\n",
    "log_reg.fit(X_train_bin, y_train_bin)\n",
    "y_pred_log = log_reg.predict(X_test_bin)\n",
    "rf_clf = RandomForestClassifier(n_estimators=100, random_state=42)\n",
    "rf_clf.fit(X_train_bin, y_train_bin)\n",
    "y_pred_rf = rf_clf.predict(X_test_bin)\n",
    "(accuracy_score(y_test_bin, y_pred_log), accuracy_score(y_test_bin, y_pred_rf))"
   ]
  },
  {
   "cell_type": "markdown",
   "id": "d3c96c26",
   "metadata": {},
   "source": [
    "## Tarefa 35 – Avaliação de classificação"
   ]
  },
  {
   "cell_type": "code",
   "execution_count": null,
   "id": "3a5a5a0c",
   "metadata": {},
   "outputs": [],
   "source": [
    "# Função utilitária\n",
    "def classification_report(model_name, y_true, y_pred):\n",
    "    cm = confusion_matrix(y_true, y_pred)\n",
    "    acc = accuracy_score(y_true, y_pred)\n",
    "    prec = precision_score(y_true, y_pred)\n",
    "    rec = recall_score(y_true, y_pred)\n",
    "    f1 = f1_score(y_true, y_pred)\n",
    "    print(model_name)\n",
    "    print('Matriz de confusão:', cm)\n",
    "    print('Accuracy', acc, 'Precision', prec, 'Recall', rec, 'F1', f1)\n",
    "\n",
    "classification_report('Logistic Regression', y_test_bin, y_pred_log)\n",
    "classification_report('Random Forest', y_test_bin, y_pred_rf)"
   ]
  },
  {
   "cell_type": "markdown",
   "id": "1cb3797b",
   "metadata": {},
   "source": [
    "## Exercícios no estilo Orange (36–40) com Python"
   ]
  },
  {
   "cell_type": "markdown",
   "id": "ca083bb1",
   "metadata": {},
   "source": [
    "### Tarefa 36 – Amostragem de 1% e distribuição"
   ]
  },
  {
   "cell_type": "code",
   "execution_count": null,
   "id": "95336556",
   "metadata": {},
   "outputs": [],
   "source": [
    "sample_hpc = df_hpc.sample(frac=0.01, random_state=42)\n",
    "(df_hpc['Global_active_power'].mean(), sample_hpc['Global_active_power'].mean())"
   ]
  },
  {
   "cell_type": "markdown",
   "id": "f39af905",
   "metadata": {},
   "source": [
    "### Tarefa 37 – Distribuição de Global_active_power"
   ]
  },
  {
   "cell_type": "code",
   "execution_count": null,
   "id": "2bb386d2",
   "metadata": {},
   "outputs": [],
   "source": [
    "df_hpc['Global_active_power'].hist(bins=50)\n",
    "plt.title('Distribuição de Global_active_power')\n",
    "plt.xlabel('Global_active_power (kW)')\n",
    "plt.ylabel('Frequência')"
   ]
  },
  {
   "cell_type": "markdown",
   "id": "b5e30656",
   "metadata": {},
   "source": [
    "### Tarefa 38 – Relação Voltage vs Global_intensity"
   ]
  },
  {
   "cell_type": "code",
   "execution_count": null,
   "id": "fddca857",
   "metadata": {},
   "outputs": [],
   "source": [
    "corr_vi = df_hpc['Voltage'].corr(df_hpc['Global_intensity'])\n",
    "corr_vi"
   ]
  },
  {
   "cell_type": "code",
   "execution_count": null,
   "id": "72f7936c",
   "metadata": {},
   "outputs": [],
   "source": [
    "plt.scatter(df_hpc['Voltage'].sample(n=5000, random_state=42), df_hpc['Global_intensity'].sample(n=5000, random_state=42), s=2, alpha=0.5)\n",
    "plt.title('Scatter Voltage vs Global_intensity')\n",
    "plt.xlabel('Voltage (V)')\n",
    "plt.ylabel('Global_intensity (A)')"
   ]
  },
  {
   "cell_type": "markdown",
   "id": "761fdcee",
   "metadata": {},
   "source": [
    "### Tarefa 39 – K-means em submeterings"
   ]
  },
  {
   "cell_type": "code",
   "execution_count": null,
   "id": "dc5b0a42",
   "metadata": {},
   "outputs": [],
   "source": [
    "sub = df_hpc[['Sub_metering_1','Sub_metering_2','Sub_metering_3']].dropna()\n",
    "scaler_sub = MinMaxScaler()\n",
    "scaled_sub = scaler_sub.fit_transform(sub)\n",
    "km_sub = KMeans(n_clusters=3, random_state=42, n_init=10)\n",
    "labels_sub = km_sub.fit_predict(scaled_sub)\n",
    "plt.scatter(scaled_sub[:,0], scaled_sub[:,1], c=labels_sub, s=2, cmap='viridis')\n",
    "plt.title('K-means em Sub-meterings')\n",
    "plt.xlabel('Sub_metering_1 (scaled)')\n",
    "plt.ylabel('Sub_metering_2 (scaled)')"
   ]
  }
 ],
 "metadata": {},
 "nbformat": 4,
 "nbformat_minor": 5
}
